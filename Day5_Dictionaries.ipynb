{
 "cells": [
  {
   "cell_type": "code",
   "execution_count": 1,
   "id": "1637d0f4",
   "metadata": {},
   "outputs": [
    {
     "name": "stdout",
     "output_type": "stream",
     "text": [
      "<class 'dict'>\n"
     ]
    }
   ],
   "source": [
    "#Dictionaries are used to store data values in key:value pairs. \n",
    "#A dictionary is a collection which is ordered*, changeable and do not allow duplicates.\n",
    "#As of Python version 3.7, dictionaries are ordered. In Python 3.6 and earlier, dictionaries are unordered.\n",
    "#The values in dictionary items can be of any data type\n",
    "d1={}\n",
    "print(type(d1))"
   ]
  },
  {
   "cell_type": "code",
   "execution_count": 2,
   "id": "03aa3c28",
   "metadata": {},
   "outputs": [
    {
     "name": "stdout",
     "output_type": "stream",
     "text": [
      "{1: 'Riya', 2: 'Srivastava', 3: 22}\n"
     ]
    }
   ],
   "source": [
    "d1={1:\"Riya\", 2:\"Srivastava\", 3:22}\n",
    "print(d1)"
   ]
  },
  {
   "cell_type": "code",
   "execution_count": 3,
   "id": "ad7e67d5",
   "metadata": {},
   "outputs": [
    {
     "name": "stdout",
     "output_type": "stream",
     "text": [
      "Riya\n"
     ]
    }
   ],
   "source": [
    "print(d1[1])"
   ]
  },
  {
   "cell_type": "code",
   "execution_count": 10,
   "id": "bd3a2ef7",
   "metadata": {},
   "outputs": [
    {
     "name": "stdout",
     "output_type": "stream",
     "text": [
      "{'FirstName': 'Riya', 'LastName': 'Srivastava', 'Age': 22}\n"
     ]
    }
   ],
   "source": [
    "d2={\"FirstName\":\"Riya\", \"LastName\":\"Srivastava\", \"Age\":22}\n",
    "print(d2)"
   ]
  },
  {
   "cell_type": "code",
   "execution_count": 14,
   "id": "9b1f812f",
   "metadata": {},
   "outputs": [
    {
     "name": "stdout",
     "output_type": "stream",
     "text": [
      "22\n"
     ]
    }
   ],
   "source": [
    "print(d2[\"Age\"])"
   ]
  },
  {
   "cell_type": "markdown",
   "id": "da5c6906",
   "metadata": {},
   "source": [
    "# Nested Dictionary"
   ]
  },
  {
   "cell_type": "code",
   "execution_count": 17,
   "id": "0459bcd5",
   "metadata": {},
   "outputs": [
    {
     "name": "stdout",
     "output_type": "stream",
     "text": [
      "{'Name': {'FirstName': 'Riya', 'LastName': 'Srivastava'}, 'Age': 22}\n"
     ]
    }
   ],
   "source": [
    "d3={\"Name\" :{\"FirstName\":\"Riya\", \"LastName\":\"Srivastava\"},  \"Age\":22}\n",
    "print(d3)"
   ]
  },
  {
   "cell_type": "code",
   "execution_count": 19,
   "id": "7ea20430",
   "metadata": {},
   "outputs": [
    {
     "name": "stdout",
     "output_type": "stream",
     "text": [
      "Riya\n"
     ]
    }
   ],
   "source": [
    "print(d3[\"Name\"][\"FirstName\"])"
   ]
  },
  {
   "cell_type": "markdown",
   "id": "b9a0fd25",
   "metadata": {},
   "source": [
    "# Adding elements "
   ]
  },
  {
   "cell_type": "code",
   "execution_count": 20,
   "id": "433966f6",
   "metadata": {},
   "outputs": [
    {
     "name": "stdout",
     "output_type": "stream",
     "text": [
      "{0: 'Hi'}\n"
     ]
    }
   ],
   "source": [
    "d={}\n",
    "d[0]=\"Hi\"\n",
    "print(d)"
   ]
  },
  {
   "cell_type": "code",
   "execution_count": 21,
   "id": "7590b3b6",
   "metadata": {},
   "outputs": [
    {
     "name": "stdout",
     "output_type": "stream",
     "text": [
      "{0: 'Hi', 1: ('How', 'are', 'you?')}\n"
     ]
    }
   ],
   "source": [
    "d[1]=(\"How\", \"are\", \"you?\")\n",
    "print(d)"
   ]
  },
  {
   "cell_type": "code",
   "execution_count": 22,
   "id": "e9644902",
   "metadata": {},
   "outputs": [
    {
     "name": "stdout",
     "output_type": "stream",
     "text": [
      "{0: 'Hi', 1: ('How', 'are', 'you?'), 'name': 'Riya Srivastava'}\n"
     ]
    }
   ],
   "source": [
    "d[\"name\"]=\"Riya Srivastava\"\n",
    "print(d)"
   ]
  },
  {
   "cell_type": "code",
   "execution_count": 32,
   "id": "ba601cf7",
   "metadata": {},
   "outputs": [
    {
     "name": "stdout",
     "output_type": "stream",
     "text": [
      "{0: 'Hi', 1: ('How', 'are', 'you?'), 'name': {'FirstName': 'Riya', 'LastName': 'Srivastava'}}\n"
     ]
    }
   ],
   "source": [
    "d[\"name\"]={\"FirstName\":\"Riya\", \"LastName\":\"Srivastava\"}\n",
    "print(d)"
   ]
  },
  {
   "cell_type": "code",
   "execution_count": 33,
   "id": "23d8f02c",
   "metadata": {},
   "outputs": [
    {
     "name": "stdout",
     "output_type": "stream",
     "text": [
      "Srivastava\n"
     ]
    }
   ],
   "source": [
    "print(d[\"name\"][\"LastName\"])"
   ]
  },
  {
   "cell_type": "code",
   "execution_count": 34,
   "id": "5b54e45e",
   "metadata": {},
   "outputs": [
    {
     "name": "stdout",
     "output_type": "stream",
     "text": [
      "{0: 'Hi', 1: ('How', 'are', 'you?'), 'name': {'FirstName': 'Riya', 'LastName': 'Srivastava'}, 3: 22}\n"
     ]
    }
   ],
   "source": [
    "d[3]=22\n",
    "print(d)"
   ]
  },
  {
   "cell_type": "markdown",
   "id": "e304db47",
   "metadata": {},
   "source": [
    "# Built-in Functions"
   ]
  },
  {
   "cell_type": "code",
   "execution_count": 35,
   "id": "cb0c93a0",
   "metadata": {},
   "outputs": [
    {
     "data": {
      "text/plain": [
       "dict_values(['Hi', ('How', 'are', 'you?'), {'FirstName': 'Riya', 'LastName': 'Srivastava'}, 22])"
      ]
     },
     "execution_count": 35,
     "metadata": {},
     "output_type": "execute_result"
    }
   ],
   "source": [
    "d.values()"
   ]
  },
  {
   "cell_type": "code",
   "execution_count": 40,
   "id": "735981da",
   "metadata": {},
   "outputs": [
    {
     "name": "stdout",
     "output_type": "stream",
     "text": [
      "{'c': 1, 'b': 1, 'a': 1, 'd': 1}\n"
     ]
    }
   ],
   "source": [
    "key={'a', 'b', 'c', 'd'}\n",
    "values=1\n",
    "temp=dict.fromkeys(key, values)\n",
    "print(temp)"
   ]
  },
  {
   "cell_type": "markdown",
   "id": "02332af7",
   "metadata": {},
   "source": [
    "# Deleting Elements"
   ]
  },
  {
   "cell_type": "code",
   "execution_count": 26,
   "id": "accc0cf6",
   "metadata": {},
   "outputs": [
    {
     "name": "stdout",
     "output_type": "stream",
     "text": [
      "{0: 'Hi', 1: ('How', 'are', 'you?'), 'name': {'FirstName': 'Riya', 'LastName': 'Srivastava'}, 3: 22}\n"
     ]
    }
   ],
   "source": [
    "print(d)"
   ]
  },
  {
   "cell_type": "code",
   "execution_count": 28,
   "id": "cbec9528",
   "metadata": {},
   "outputs": [
    {
     "data": {
      "text/plain": [
       "22"
      ]
     },
     "execution_count": 28,
     "metadata": {},
     "output_type": "execute_result"
    }
   ],
   "source": [
    "d.pop(3)"
   ]
  },
  {
   "cell_type": "code",
   "execution_count": 29,
   "id": "4350d478",
   "metadata": {},
   "outputs": [
    {
     "name": "stdout",
     "output_type": "stream",
     "text": [
      "{0: 'Hi', 1: ('How', 'are', 'you?'), 'name': {'FirstName': 'Riya', 'LastName': 'Srivastava'}}\n"
     ]
    }
   ],
   "source": [
    "print(d)"
   ]
  },
  {
   "cell_type": "code",
   "execution_count": 30,
   "id": "2df9dba6",
   "metadata": {},
   "outputs": [
    {
     "data": {
      "text/plain": [
       "('name', {'FirstName': 'Riya', 'LastName': 'Srivastava'})"
      ]
     },
     "execution_count": 30,
     "metadata": {},
     "output_type": "execute_result"
    }
   ],
   "source": [
    "d.popitem()\n",
    "#deletes the last element in the dictionary"
   ]
  },
  {
   "cell_type": "code",
   "execution_count": 31,
   "id": "03b7d5df",
   "metadata": {},
   "outputs": [
    {
     "name": "stdout",
     "output_type": "stream",
     "text": [
      "{0: 'Hi', 1: ('How', 'are', 'you?')}\n"
     ]
    }
   ],
   "source": [
    "print(d)"
   ]
  },
  {
   "cell_type": "code",
   "execution_count": 41,
   "id": "e39558b2",
   "metadata": {},
   "outputs": [],
   "source": [
    "d.clear()"
   ]
  },
  {
   "cell_type": "code",
   "execution_count": 42,
   "id": "aaec1c8b",
   "metadata": {},
   "outputs": [
    {
     "name": "stdout",
     "output_type": "stream",
     "text": [
      "{}\n"
     ]
    }
   ],
   "source": [
    "print(d)"
   ]
  },
  {
   "cell_type": "code",
   "execution_count": null,
   "id": "06ec13c2",
   "metadata": {},
   "outputs": [],
   "source": []
  }
 ],
 "metadata": {
  "kernelspec": {
   "display_name": "Python 3",
   "language": "python",
   "name": "python3"
  },
  "language_info": {
   "codemirror_mode": {
    "name": "ipython",
    "version": 3
   },
   "file_extension": ".py",
   "mimetype": "text/x-python",
   "name": "python",
   "nbconvert_exporter": "python",
   "pygments_lexer": "ipython3",
   "version": "3.8.8"
  }
 },
 "nbformat": 4,
 "nbformat_minor": 5
}
