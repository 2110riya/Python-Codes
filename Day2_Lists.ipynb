{
 "cells": [
  {
   "cell_type": "code",
   "execution_count": 2,
   "id": "f771351f",
   "metadata": {},
   "outputs": [],
   "source": [
    "#List is a collection of data. It can hold data of multiple data types.\n",
    "x=[10, \"hey\", \"Hello\", 22]"
   ]
  },
  {
   "cell_type": "code",
   "execution_count": 3,
   "id": "9507f198",
   "metadata": {},
   "outputs": [
    {
     "name": "stdout",
     "output_type": "stream",
     "text": [
      "[10, 'hey', 'Hello', 22]\n"
     ]
    }
   ],
   "source": [
    "print(x)"
   ]
  },
  {
   "cell_type": "code",
   "execution_count": 4,
   "id": "67e3bd2b",
   "metadata": {},
   "outputs": [
    {
     "name": "stdout",
     "output_type": "stream",
     "text": [
      "10\n"
     ]
    }
   ],
   "source": [
    "print(x[0])"
   ]
  },
  {
   "cell_type": "code",
   "execution_count": 5,
   "id": "5854e8b5",
   "metadata": {},
   "outputs": [],
   "source": [
    "#List is mutable\n",
    "x[0]=\"NO\""
   ]
  },
  {
   "cell_type": "code",
   "execution_count": 6,
   "id": "e393c65a",
   "metadata": {},
   "outputs": [
    {
     "name": "stdout",
     "output_type": "stream",
     "text": [
      "['NO', 'hey', 'Hello', 22]\n"
     ]
    }
   ],
   "source": [
    "print(x)"
   ]
  },
  {
   "cell_type": "code",
   "execution_count": 7,
   "id": "73878d18",
   "metadata": {},
   "outputs": [
    {
     "data": {
      "text/plain": [
       "4"
      ]
     },
     "execution_count": 7,
     "metadata": {},
     "output_type": "execute_result"
    }
   ],
   "source": [
    "#to find length of list\n",
    "len(x)"
   ]
  },
  {
   "cell_type": "code",
   "execution_count": 8,
   "id": "5e76bd4e",
   "metadata": {},
   "outputs": [
    {
     "data": {
      "text/plain": [
       "2"
      ]
     },
     "execution_count": 8,
     "metadata": {},
     "output_type": "execute_result"
    }
   ],
   "source": [
    "len(x[0])"
   ]
  },
  {
   "cell_type": "code",
   "execution_count": 9,
   "id": "4089ad98",
   "metadata": {},
   "outputs": [],
   "source": [
    "mat=[[1,2], [3, 4], [5,6,7]]#like 2D vector"
   ]
  },
  {
   "cell_type": "code",
   "execution_count": 10,
   "id": "44282f6e",
   "metadata": {},
   "outputs": [
    {
     "name": "stdout",
     "output_type": "stream",
     "text": [
      "[5, 6, 7]\n"
     ]
    }
   ],
   "source": [
    "print(mat[2])"
   ]
  },
  {
   "cell_type": "code",
   "execution_count": 11,
   "id": "d014cd72",
   "metadata": {},
   "outputs": [
    {
     "name": "stdout",
     "output_type": "stream",
     "text": [
      "2\n"
     ]
    }
   ],
   "source": [
    "print(mat[0][1])"
   ]
  },
  {
   "cell_type": "code",
   "execution_count": 12,
   "id": "6f19c6e5",
   "metadata": {},
   "outputs": [
    {
     "ename": "IndexError",
     "evalue": "list index out of range",
     "output_type": "error",
     "traceback": [
      "\u001b[1;31m---------------------------------------------------------------------------\u001b[0m",
      "\u001b[1;31mIndexError\u001b[0m                                Traceback (most recent call last)",
      "\u001b[1;32m<ipython-input-12-c17807b3ab37>\u001b[0m in \u001b[0;36m<module>\u001b[1;34m\u001b[0m\n\u001b[1;32m----> 1\u001b[1;33m \u001b[0mprint\u001b[0m\u001b[1;33m(\u001b[0m\u001b[0mmat\u001b[0m\u001b[1;33m[\u001b[0m\u001b[1;36m0\u001b[0m\u001b[1;33m]\u001b[0m\u001b[1;33m[\u001b[0m\u001b[1;36m2\u001b[0m\u001b[1;33m]\u001b[0m\u001b[1;33m)\u001b[0m\u001b[1;33m\u001b[0m\u001b[1;33m\u001b[0m\u001b[0m\n\u001b[0m",
      "\u001b[1;31mIndexError\u001b[0m: list index out of range"
     ]
    }
   ],
   "source": [
    "print(mat[0][2])"
   ]
  },
  {
   "cell_type": "code",
   "execution_count": 13,
   "id": "93852046",
   "metadata": {},
   "outputs": [
    {
     "name": "stdout",
     "output_type": "stream",
     "text": [
      "4\n"
     ]
    }
   ],
   "source": [
    "print(mat[1][1])"
   ]
  },
  {
   "cell_type": "markdown",
   "id": "8c91b486",
   "metadata": {},
   "source": [
    "# Accessing elements in the list"
   ]
  },
  {
   "cell_type": "code",
   "execution_count": 15,
   "id": "681db1c4",
   "metadata": {},
   "outputs": [
    {
     "name": "stdout",
     "output_type": "stream",
     "text": [
      "Hello\n"
     ]
    }
   ],
   "source": [
    "print(x[2]) #from front"
   ]
  },
  {
   "cell_type": "code",
   "execution_count": 16,
   "id": "83aaa3ba",
   "metadata": {},
   "outputs": [
    {
     "name": "stdout",
     "output_type": "stream",
     "text": [
      "Hello\n"
     ]
    }
   ],
   "source": [
    "#-1 refers to the last item, -2 refers to the second last item etc.\n",
    "print(x[-2]) #from back"
   ]
  },
  {
   "cell_type": "code",
   "execution_count": 17,
   "id": "2261c2ea",
   "metadata": {},
   "outputs": [
    {
     "name": "stdout",
     "output_type": "stream",
     "text": [
      "['NO', 'hey', 'Hello']\n"
     ]
    }
   ],
   "source": [
    "#printing elements in a range\n",
    "print(x[:3])# prints from 0 to 2"
   ]
  },
  {
   "cell_type": "code",
   "execution_count": 19,
   "id": "e6d44ddf",
   "metadata": {},
   "outputs": [
    {
     "name": "stdout",
     "output_type": "stream",
     "text": [
      "['hey', 'Hello', 22]\n"
     ]
    }
   ],
   "source": [
    "print(x[1:])#prints from 1 till end of the list"
   ]
  },
  {
   "cell_type": "code",
   "execution_count": 21,
   "id": "5f2d62ec",
   "metadata": {},
   "outputs": [
    {
     "name": "stdout",
     "output_type": "stream",
     "text": [
      "['NO', 'Hello']\n"
     ]
    }
   ],
   "source": [
    "#what if we want to extract every second element(acc to position) of the list\n",
    "print(x[::2])"
   ]
  },
  {
   "cell_type": "code",
   "execution_count": 22,
   "id": "45f70cc5",
   "metadata": {},
   "outputs": [
    {
     "name": "stdout",
     "output_type": "stream",
     "text": [
      "[22, 'Hello', 'hey', 'NO']\n"
     ]
    }
   ],
   "source": [
    "#printing list in reverse order\n",
    "print(x[::-1])"
   ]
  },
  {
   "cell_type": "code",
   "execution_count": 23,
   "id": "1d6d8d37",
   "metadata": {},
   "outputs": [
    {
     "name": "stdout",
     "output_type": "stream",
     "text": [
      "[22, 'hey']\n"
     ]
    }
   ],
   "source": [
    "print(x[::-2])#prints from the back and skips every second element"
   ]
  },
  {
   "cell_type": "markdown",
   "id": "389c2d94",
   "metadata": {},
   "source": [
    "# Operations on list"
   ]
  },
  {
   "cell_type": "code",
   "execution_count": 24,
   "id": "84817e29",
   "metadata": {},
   "outputs": [
    {
     "name": "stdout",
     "output_type": "stream",
     "text": [
      "[0, 0, 0, 0, 0, 0, 0, 0, 0, 0, 0, 0, 0, 0, 0, 0, 0, 0, 0, 0, 0, 0, 0, 0, 0, 0, 0, 0, 0, 0, 0, 0, 0, 0, 0, 0, 0, 0, 0, 0, 0, 0, 0, 0, 0, 0, 0, 0, 0, 0, 0, 0, 0, 0, 0, 0, 0, 0, 0, 0, 0, 0, 0, 0, 0, 0, 0, 0, 0, 0, 0, 0, 0, 0, 0, 0, 0, 0, 0, 0, 0, 0, 0, 0, 0, 0, 0, 0, 0, 0, 0, 0, 0, 0, 0, 0, 0, 0, 0, 0]\n"
     ]
    }
   ],
   "source": [
    "x=[0]*100 # (stores 0 100 times)\n",
    "print(x)"
   ]
  },
  {
   "cell_type": "code",
   "execution_count": 45,
   "id": "9b273f9a",
   "metadata": {},
   "outputs": [
    {
     "name": "stdout",
     "output_type": "stream",
     "text": [
      "['a', 'b', 'c', 'd', 'hi', 'hello', 'Ciao']\n"
     ]
    }
   ],
   "source": [
    "#concatenation two lists\n",
    "letter =['a', 'b', 'c', 'd']\n",
    "stg = [\"hi\", \"hello\", \"Ciao\"]\n",
    "conc = letter + stg\n",
    "print(conc)"
   ]
  },
  {
   "cell_type": "code",
   "execution_count": 46,
   "id": "77549b78",
   "metadata": {},
   "outputs": [
    {
     "name": "stdout",
     "output_type": "stream",
     "text": [
      "['H', 'e', 'l', 'l', 'o', '!', ' ', 'H', 'o', 'w', ' ', 'a', 'r', 'e', ' ', 'y', 'o', 'u', '?']\n"
     ]
    }
   ],
   "source": [
    "#unpacking\n",
    "x=list(\"Hello! How are you?\")\n",
    "print(x) \n",
    "#seperates every element of the string "
   ]
  },
  {
   "cell_type": "code",
   "execution_count": 47,
   "id": "1cf055fd",
   "metadata": {},
   "outputs": [
    {
     "name": "stdout",
     "output_type": "stream",
     "text": [
      "1\n",
      "[2, 3, 4]\n"
     ]
    }
   ],
   "source": [
    "num=[1, 2, 3, 4]\n",
    "one, *other = num # 1 goes into variable one, and the remaining list is stored in the list other\n",
    "print(one)\n",
    "print(other)"
   ]
  },
  {
   "cell_type": "markdown",
   "id": "216c0ae1",
   "metadata": {},
   "source": [
    "# Methods in list"
   ]
  },
  {
   "cell_type": "code",
   "execution_count": 48,
   "id": "2436a046",
   "metadata": {},
   "outputs": [
    {
     "name": "stdout",
     "output_type": "stream",
     "text": [
      "[1, 2, 3, 4]\n"
     ]
    }
   ],
   "source": [
    "print(num)"
   ]
  },
  {
   "cell_type": "code",
   "execution_count": 49,
   "id": "e0dc72c3",
   "metadata": {},
   "outputs": [],
   "source": [
    "num.append(5) #adds 5 to end of the list"
   ]
  },
  {
   "cell_type": "code",
   "execution_count": 50,
   "id": "83c7e94b",
   "metadata": {},
   "outputs": [
    {
     "name": "stdout",
     "output_type": "stream",
     "text": [
      "[1, 2, 3, 4, 5]\n"
     ]
    }
   ],
   "source": [
    "print(num)"
   ]
  },
  {
   "cell_type": "code",
   "execution_count": 51,
   "id": "7e557db2",
   "metadata": {},
   "outputs": [],
   "source": [
    "num.extend(stg) #add list 'stg' to the end of the list 'num'"
   ]
  },
  {
   "cell_type": "code",
   "execution_count": 52,
   "id": "25be2c51",
   "metadata": {},
   "outputs": [
    {
     "name": "stdout",
     "output_type": "stream",
     "text": [
      "[1, 2, 3, 4, 5, 'hi', 'hello', 'Ciao']\n"
     ]
    }
   ],
   "source": [
    "print(num)"
   ]
  },
  {
   "cell_type": "code",
   "execution_count": 53,
   "id": "6bf92508",
   "metadata": {},
   "outputs": [
    {
     "name": "stdout",
     "output_type": "stream",
     "text": [
      "[1, 2, 3, 4, 5, 'Riya', 'hi', 'hello', 'Ciao']\n"
     ]
    }
   ],
   "source": [
    "#to insert at a certain position\n",
    "num.insert(5, \"Riya\")\n",
    "print(num)"
   ]
  },
  {
   "cell_type": "code",
   "execution_count": 55,
   "id": "0614265a",
   "metadata": {},
   "outputs": [
    {
     "name": "stdout",
     "output_type": "stream",
     "text": [
      "[1, 2, 3, 4, 5, 'Riya', 'hi', 'hello']\n"
     ]
    }
   ],
   "source": [
    "num.remove(\"Ciao\")# removes the first occurence of the word Ciao\n",
    "print(num)"
   ]
  },
  {
   "cell_type": "code",
   "execution_count": 56,
   "id": "c0216b27",
   "metadata": {},
   "outputs": [
    {
     "ename": "TypeError",
     "evalue": "'<' not supported between instances of 'str' and 'int'",
     "output_type": "error",
     "traceback": [
      "\u001b[1;31m---------------------------------------------------------------------------\u001b[0m",
      "\u001b[1;31mTypeError\u001b[0m                                 Traceback (most recent call last)",
      "\u001b[1;32m<ipython-input-56-85ec2af15cc6>\u001b[0m in \u001b[0;36m<module>\u001b[1;34m\u001b[0m\n\u001b[1;32m----> 1\u001b[1;33m \u001b[0mnum\u001b[0m\u001b[1;33m.\u001b[0m\u001b[0msort\u001b[0m\u001b[1;33m(\u001b[0m\u001b[1;33m)\u001b[0m\u001b[1;33m\u001b[0m\u001b[1;33m\u001b[0m\u001b[0m\n\u001b[0m",
      "\u001b[1;31mTypeError\u001b[0m: '<' not supported between instances of 'str' and 'int'"
     ]
    }
   ],
   "source": [
    "num.sort()"
   ]
  },
  {
   "cell_type": "code",
   "execution_count": 57,
   "id": "0d503010",
   "metadata": {},
   "outputs": [],
   "source": [
    "temp=['a', 'b', 'g', 'c', 'e', 'h']\n",
    "temp.sort()"
   ]
  },
  {
   "cell_type": "code",
   "execution_count": 58,
   "id": "d4a6a648",
   "metadata": {},
   "outputs": [
    {
     "name": "stdout",
     "output_type": "stream",
     "text": [
      "['a', 'b', 'c', 'e', 'g', 'h']\n"
     ]
    }
   ],
   "source": [
    "print(temp)"
   ]
  },
  {
   "cell_type": "markdown",
   "id": "20299d85",
   "metadata": {},
   "source": [
    "# Built-in functions in list"
   ]
  },
  {
   "cell_type": "code",
   "execution_count": 59,
   "id": "d12f994c",
   "metadata": {},
   "outputs": [],
   "source": [
    "x=[1, 2, 8, 9, 11, 33]\n"
   ]
  },
  {
   "cell_type": "code",
   "execution_count": 60,
   "id": "85ee2b96",
   "metadata": {},
   "outputs": [
    {
     "data": {
      "text/plain": [
       "6"
      ]
     },
     "execution_count": 60,
     "metadata": {},
     "output_type": "execute_result"
    }
   ],
   "source": [
    "len(x)"
   ]
  },
  {
   "cell_type": "code",
   "execution_count": 61,
   "id": "764690a1",
   "metadata": {},
   "outputs": [
    {
     "data": {
      "text/plain": [
       "1"
      ]
     },
     "execution_count": 61,
     "metadata": {},
     "output_type": "execute_result"
    }
   ],
   "source": [
    "min(x)"
   ]
  },
  {
   "cell_type": "code",
   "execution_count": 62,
   "id": "fb3aab61",
   "metadata": {},
   "outputs": [
    {
     "data": {
      "text/plain": [
       "33"
      ]
     },
     "execution_count": 62,
     "metadata": {},
     "output_type": "execute_result"
    }
   ],
   "source": [
    "max(x)"
   ]
  },
  {
   "cell_type": "code",
   "execution_count": 63,
   "id": "0a814b3f",
   "metadata": {},
   "outputs": [
    {
     "data": {
      "text/plain": [
       "64"
      ]
     },
     "execution_count": 63,
     "metadata": {},
     "output_type": "execute_result"
    }
   ],
   "source": [
    "sum(x)"
   ]
  },
  {
   "cell_type": "code",
   "execution_count": 64,
   "id": "9ec17228",
   "metadata": {},
   "outputs": [
    {
     "data": {
      "text/plain": [
       "10.666666666666666"
      ]
     },
     "execution_count": 64,
     "metadata": {},
     "output_type": "execute_result"
    }
   ],
   "source": [
    "sum(x)/len(x)"
   ]
  },
  {
   "cell_type": "code",
   "execution_count": null,
   "id": "7b658639",
   "metadata": {},
   "outputs": [],
   "source": []
  }
 ],
 "metadata": {
  "kernelspec": {
   "display_name": "Python 3",
   "language": "python",
   "name": "python3"
  },
  "language_info": {
   "codemirror_mode": {
    "name": "ipython",
    "version": 3
   },
   "file_extension": ".py",
   "mimetype": "text/x-python",
   "name": "python",
   "nbconvert_exporter": "python",
   "pygments_lexer": "ipython3",
   "version": "3.8.8"
  }
 },
 "nbformat": 4,
 "nbformat_minor": 5
}
