{
 "cells": [
  {
   "cell_type": "code",
   "execution_count": 1,
   "id": "2cf0d2c6",
   "metadata": {},
   "outputs": [
    {
     "name": "stdout",
     "output_type": "stream",
     "text": [
      "Tim's birthday\n"
     ]
    }
   ],
   "source": [
    "stg='Tim\\'s birthday'\n",
    "print(stg)"
   ]
  },
  {
   "cell_type": "code",
   "execution_count": 5,
   "id": "de78161e",
   "metadata": {},
   "outputs": [
    {
     "name": "stdout",
     "output_type": "stream",
     "text": [
      "He said, \"I'm busy.\" \n"
     ]
    }
   ],
   "source": [
    "stg=\"He said, \\\"I'm busy.\\\" \"\n",
    "print(stg)"
   ]
  },
  {
   "cell_type": "code",
   "execution_count": 6,
   "id": "a4bef910",
   "metadata": {},
   "outputs": [
    {
     "name": "stdout",
     "output_type": "stream",
     "text": [
      "Hey!\n",
      "How are you?\n"
     ]
    }
   ],
   "source": [
    "#for multiple line string\n",
    "#You can use three double quotes or three single quotes\n",
    "stg='''Hey!\n",
    "How are you?'''\n",
    "print(stg)"
   ]
  },
  {
   "cell_type": "code",
   "execution_count": 7,
   "id": "5759cc05",
   "metadata": {},
   "outputs": [
    {
     "data": {
      "text/plain": [
       "15"
      ]
     },
     "execution_count": 7,
     "metadata": {},
     "output_type": "execute_result"
    }
   ],
   "source": [
    "stg=\"Riya Srivastava\"\n",
    "len(stg)"
   ]
  },
  {
   "cell_type": "code",
   "execution_count": 9,
   "id": "709c33fc",
   "metadata": {},
   "outputs": [
    {
     "name": "stdout",
     "output_type": "stream",
     "text": [
      "R\n",
      "i\n",
      "y\n",
      "a\n",
      " \n",
      "S\n",
      "r\n",
      "i\n",
      "v\n",
      "a\n",
      "s\n",
      "t\n",
      "a\n",
      "v\n",
      "a\n"
     ]
    }
   ],
   "source": [
    "for i in stg:\n",
    "    print(i)"
   ]
  },
  {
   "cell_type": "code",
   "execution_count": 10,
   "id": "14e4ee66",
   "metadata": {},
   "outputs": [
    {
     "name": "stdout",
     "output_type": "stream",
     "text": [
      "Riya Srivastava"
     ]
    }
   ],
   "source": [
    "for i in stg:\n",
    "    print(i, end=\"\")"
   ]
  },
  {
   "cell_type": "code",
   "execution_count": 13,
   "id": "12844bd3",
   "metadata": {},
   "outputs": [
    {
     "name": "stdout",
     "output_type": "stream",
     "text": [
      "Riya S\n"
     ]
    }
   ],
   "source": [
    "print(stg[:6])"
   ]
  },
  {
   "cell_type": "code",
   "execution_count": 14,
   "id": "d5f1569d",
   "metadata": {},
   "outputs": [
    {
     "name": "stdout",
     "output_type": "stream",
     "text": [
      "avatsavirS ayiR\n"
     ]
    }
   ],
   "source": [
    "print(stg[::-1])"
   ]
  },
  {
   "cell_type": "code",
   "execution_count": 15,
   "id": "a6fe24a0",
   "metadata": {},
   "outputs": [
    {
     "name": "stdout",
     "output_type": "stream",
     "text": [
      "a\n"
     ]
    }
   ],
   "source": [
    "print(stg[-1])"
   ]
  },
  {
   "cell_type": "code",
   "execution_count": 16,
   "id": "c894fd4e",
   "metadata": {},
   "outputs": [
    {
     "name": "stdout",
     "output_type": "stream",
     "text": [
      "Ry rvsaa\n"
     ]
    }
   ],
   "source": [
    "print(stg[::2])"
   ]
  },
  {
   "cell_type": "code",
   "execution_count": 17,
   "id": "2950db32",
   "metadata": {},
   "outputs": [
    {
     "name": "stdout",
     "output_type": "stream",
     "text": [
      "Riya Srivastava\n"
     ]
    }
   ],
   "source": [
    "print(stg[::1])"
   ]
  },
  {
   "cell_type": "code",
   "execution_count": 18,
   "id": "5744a853",
   "metadata": {},
   "outputs": [
    {
     "name": "stdout",
     "output_type": "stream",
     "text": [
      "aasvr yR\n"
     ]
    }
   ],
   "source": [
    "print(stg[::-2])"
   ]
  },
  {
   "cell_type": "markdown",
   "id": "520ca9af",
   "metadata": {},
   "source": [
    "# Methods"
   ]
  },
  {
   "cell_type": "code",
   "execution_count": 19,
   "id": "803f413c",
   "metadata": {},
   "outputs": [
    {
     "name": "stdout",
     "output_type": "stream",
     "text": [
      "Welcome to the real world. It sucks.\n"
     ]
    }
   ],
   "source": [
    "stg=\"Welcome to the real world. It sucks.\"\n",
    "print(stg)"
   ]
  },
  {
   "cell_type": "code",
   "execution_count": 20,
   "id": "d5d1acb3",
   "metadata": {},
   "outputs": [
    {
     "name": "stdout",
     "output_type": "stream",
     "text": [
      "WELCOME TO THE REAL WORLD. IT SUCKS.\n"
     ]
    }
   ],
   "source": [
    "print(stg.upper())"
   ]
  },
  {
   "cell_type": "code",
   "execution_count": 21,
   "id": "7c49afff",
   "metadata": {},
   "outputs": [
    {
     "name": "stdout",
     "output_type": "stream",
     "text": [
      "welcome to the real world. it sucks.\n"
     ]
    }
   ],
   "source": [
    "print(stg.lower())"
   ]
  },
  {
   "cell_type": "code",
   "execution_count": 22,
   "id": "d7207a09",
   "metadata": {},
   "outputs": [
    {
     "name": "stdout",
     "output_type": "stream",
     "text": [
      "1\n"
     ]
    }
   ],
   "source": [
    "print(stg.find('e'))"
   ]
  },
  {
   "cell_type": "code",
   "execution_count": 23,
   "id": "12bf85b4",
   "metadata": {},
   "outputs": [
    {
     "name": "stdout",
     "output_type": "stream",
     "text": [
      "8\n"
     ]
    }
   ],
   "source": [
    "print(stg.find('to'))"
   ]
  },
  {
   "cell_type": "code",
   "execution_count": 24,
   "id": "b0957256",
   "metadata": {},
   "outputs": [
    {
     "name": "stdout",
     "output_type": "stream",
     "text": [
      "['Welcome', 'to', 'the', 'real', 'world.', 'It', 'sucks.']\n"
     ]
    }
   ],
   "source": [
    "#The split() method returns a list where the text between the specified separator becomes the list items.\n",
    "print(stg.split(\" \"))"
   ]
  },
  {
   "cell_type": "code",
   "execution_count": 25,
   "id": "c83c78bf",
   "metadata": {},
   "outputs": [
    {
     "name": "stdout",
     "output_type": "stream",
     "text": [
      "['W', 'lcom', ' to th', ' r', 'al world. It sucks.']\n"
     ]
    }
   ],
   "source": [
    "print(stg.split(\"e\"))"
   ]
  },
  {
   "cell_type": "code",
   "execution_count": 26,
   "id": "3fed4d8b",
   "metadata": {},
   "outputs": [],
   "source": [
    "x=stg.split(\" \")"
   ]
  },
  {
   "cell_type": "code",
   "execution_count": 27,
   "id": "d68896f8",
   "metadata": {},
   "outputs": [
    {
     "name": "stdout",
     "output_type": "stream",
     "text": [
      "['Welcome', 'to', 'the', 'real', 'world.', 'It', 'sucks.']\n"
     ]
    }
   ],
   "source": [
    "print(x)"
   ]
  },
  {
   "cell_type": "code",
   "execution_count": 28,
   "id": "1fec7a73",
   "metadata": {},
   "outputs": [
    {
     "data": {
      "text/plain": [
       "'WElcomE to thE rEal world. It sucks.'"
      ]
     },
     "execution_count": 28,
     "metadata": {},
     "output_type": "execute_result"
    }
   ],
   "source": [
    "stg.replace(\"e\", \"E\") #doesn't alter the string"
   ]
  },
  {
   "cell_type": "code",
   "execution_count": 29,
   "id": "5063cd4e",
   "metadata": {},
   "outputs": [
    {
     "name": "stdout",
     "output_type": "stream",
     "text": [
      "Welcome to the real world. It sucks.\n"
     ]
    }
   ],
   "source": [
    "print(stg)"
   ]
  },
  {
   "cell_type": "code",
   "execution_count": 30,
   "id": "a6049547",
   "metadata": {},
   "outputs": [],
   "source": [
    "stg=stg.replace(\"e\", \"E\")#now the string is altered"
   ]
  },
  {
   "cell_type": "code",
   "execution_count": 31,
   "id": "c68e520b",
   "metadata": {},
   "outputs": [
    {
     "name": "stdout",
     "output_type": "stream",
     "text": [
      "WElcomE to thE rEal world. It sucks.\n"
     ]
    }
   ],
   "source": [
    "print(stg)"
   ]
  },
  {
   "cell_type": "code",
   "execution_count": 33,
   "id": "64d19e13",
   "metadata": {},
   "outputs": [
    {
     "name": "stdout",
     "output_type": "stream",
     "text": [
      "('WElcomE', ' to ', 'thE rEal world. It sucks.')\n"
     ]
    }
   ],
   "source": [
    "print(stg.rpartition(\" to \"))#creates a tuple whose first element is string befor \" to \", second element is \" to \", \n",
    "#and third element is rest of the string"
   ]
  },
  {
   "cell_type": "code",
   "execution_count": 35,
   "id": "ad80d918",
   "metadata": {},
   "outputs": [
    {
     "name": "stdout",
     "output_type": "stream",
     "text": [
      "Hello! How are you?\n"
     ]
    }
   ],
   "source": [
    "a=\"Hello\"\n",
    "b=\"How are you\"\n",
    "c= a + \"! \" + b + \"?\"\n",
    "print(c)"
   ]
  },
  {
   "cell_type": "code",
   "execution_count": 36,
   "id": "d2b33182",
   "metadata": {},
   "outputs": [
    {
     "name": "stdout",
     "output_type": "stream",
     "text": [
      "Hello! How are you?\n"
     ]
    }
   ],
   "source": [
    "#he format() method takes the passed arguments, formats them, and places them in the string where the placeholders {} are\n",
    "stg=\"{}! {}?\".format(a,b)\n",
    "print(stg)"
   ]
  },
  {
   "cell_type": "code",
   "execution_count": 37,
   "id": "40831131",
   "metadata": {},
   "outputs": [
    {
     "name": "stdout",
     "output_type": "stream",
     "text": [
      "Hello my name is Riya, and age is 22\n"
     ]
    }
   ],
   "source": [
    "age=22\n",
    "txt=\"Hello my name is Riya, and age is {}\"\n",
    "print(txt.format(age))"
   ]
  },
  {
   "cell_type": "code",
   "execution_count": 38,
   "id": "2248270c",
   "metadata": {},
   "outputs": [
    {
     "name": "stdout",
     "output_type": "stream",
     "text": [
      "Hello! How are you?\n"
     ]
    }
   ],
   "source": [
    "#You can use index numbers {0} to be sure the arguments are placed in the correct placeholders\n",
    "stg=\"{1}! {0}?\".format(b, a)\n",
    "print(stg)"
   ]
  },
  {
   "cell_type": "code",
   "execution_count": null,
   "id": "4ea05379",
   "metadata": {},
   "outputs": [],
   "source": []
  }
 ],
 "metadata": {
  "kernelspec": {
   "display_name": "Python 3",
   "language": "python",
   "name": "python3"
  },
  "language_info": {
   "codemirror_mode": {
    "name": "ipython",
    "version": 3
   },
   "file_extension": ".py",
   "mimetype": "text/x-python",
   "name": "python",
   "nbconvert_exporter": "python",
   "pygments_lexer": "ipython3",
   "version": "3.8.8"
  }
 },
 "nbformat": 4,
 "nbformat_minor": 5
}
